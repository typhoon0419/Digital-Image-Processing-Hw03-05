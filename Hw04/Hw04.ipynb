{
 "cells": [
  {
   "cell_type": "markdown",
   "metadata": {},
   "source": [
    "##### (a) An M*N image f"
   ]
  },
  {
   "cell_type": "code",
   "execution_count": 68,
   "metadata": {},
   "outputs": [
    {
     "data": {
      "text/plain": [
       "True"
      ]
     },
     "execution_count": 68,
     "metadata": {},
     "output_type": "execute_result"
    }
   ],
   "source": [
    "import numpy as np\n",
    "import cv2 as cv\n",
    "import math\n",
    "\n",
    "img = cv.imread(\"integrated-ckt-damaged.tif\", cv.IMREAD_GRAYSCALE)\n",
    "x = img.shape[0]\n",
    "y = img.shape[1]\n",
    "img = np.float32(img)\n",
    "cv.imshow('image', img)\n",
    "cv.waitKey(0)\n",
    "cv.destroyAllWindows()\n",
    "cv.imwrite('image_a.jpg', img)"
   ]
  },
  {
   "cell_type": "markdown",
   "metadata": {},
   "source": [
    "##### (b) Padded image, fp of size P*Q"
   ]
  },
  {
   "cell_type": "code",
   "execution_count": 69,
   "metadata": {},
   "outputs": [
    {
     "data": {
      "text/plain": [
       "True"
      ]
     },
     "execution_count": 69,
     "metadata": {},
     "output_type": "execute_result"
    }
   ],
   "source": [
    "imgb = np.pad(img, [(0, x), (0, y)])\n",
    "cv.imshow('image', imgb)\n",
    "cv.waitKey(0)\n",
    "cv.destroyAllWindows()\n",
    "cv.imwrite('image_b.jpg', imgb)"
   ]
  },
  {
   "cell_type": "markdown",
   "metadata": {},
   "source": [
    "##### (c) Result of multiplying fp by (-1)^x+y"
   ]
  },
  {
   "cell_type": "code",
   "execution_count": 70,
   "metadata": {},
   "outputs": [
    {
     "data": {
      "text/plain": [
       "True"
      ]
     },
     "execution_count": 70,
     "metadata": {},
     "output_type": "execute_result"
    }
   ],
   "source": [
    "imgc = imgb * pow(-1, x+y)\n",
    "\n",
    "cv.imshow('image', imgc)\n",
    "cv.waitKey(0)\n",
    "cv.destroyAllWindows()\n",
    "cv.imwrite('image_c.jpg', imgc)"
   ]
  },
  {
   "cell_type": "markdown",
   "metadata": {},
   "source": [
    "##### (d) Spectrum of F"
   ]
  },
  {
   "cell_type": "code",
   "execution_count": 71,
   "metadata": {},
   "outputs": [
    {
     "data": {
      "text/plain": [
       "True"
      ]
     },
     "execution_count": 71,
     "metadata": {},
     "output_type": "execute_result"
    }
   ],
   "source": [
    "# f = np.fft.fft2(imgc)\n",
    "# fshift = np.fft.fftshift(f)\n",
    "\n",
    "dft = cv.dft(imgc, flags=cv.DFT_COMPLEX_OUTPUT)\n",
    "dftShift = np.fft.fftshift(dft)\n",
    "\n",
    "imgd = 20*np.log(np.abs(cv.magnitude(dftShift[:,:,0], dftShift[:,:,1])))\n",
    "cv.imshow('image', imgd)\n",
    "cv.waitKey(0)\n",
    "cv.destroyAllWindows()\n",
    "cv.imwrite('image_d.jpg', imgd)"
   ]
  },
  {
   "cell_type": "markdown",
   "metadata": {},
   "source": [
    "##### (e) Centered Gaussian lowpass filter transfer function, H, of size P*Q"
   ]
  },
  {
   "cell_type": "code",
   "execution_count": 72,
   "metadata": {},
   "outputs": [],
   "source": [
    "\n",
    "# a, b = np.mgrid[-1:1:2.0/(x*2), -1:1:2.0/(y*2)]\n",
    "# c = 1/(2*np.pi*sigma2)*np.exp(-(a**2+b**2)/(2*sigma2))\n",
    "# zNorm = np.uint8(cv.normalize(c, None, 0, 255, cv.NORM_MINMAX))\n",
    "\n",
    "# maskGauss = np.zeros((x*2,y*2, 2), np.uint8)\n",
    "# maskGauss[:,:,0] = zNorm\n",
    "# maskGauss[:,:,1] = zNorm\n",
    "\n",
    "# imge = maskGauss[:,:,0]\n",
    "\n",
    "# # imge = cv.GaussianBlur(imgd, (5, 5), 9)\n",
    "# cv.imshow('image', imge)\n",
    "# cv.waitKey(0)\n",
    "# cv.destroyAllWindows()\n",
    "# cv.imwrite('image_e.jpg', imge)"
   ]
  },
  {
   "cell_type": "code",
   "execution_count": 73,
   "metadata": {},
   "outputs": [
    {
     "data": {
      "text/plain": [
       "True"
      ]
     },
     "execution_count": 73,
     "metadata": {},
     "output_type": "execute_result"
    }
   ],
   "source": [
    "sigma2 = 2500\n",
    "mask = np.zeros((x*2,y*2, 2))\n",
    "for i in range(x*2):\n",
    "    for j in range(y*2):\n",
    "        D = np.sqrt((i-x)**2 + (j-y)**2)\n",
    "        mask[i,j] = np.exp(-(D*D)/(2*sigma2))\n",
    "\n",
    "fShift = dftShift * mask\n",
    "\n",
    "imge = mask[:,:,0]\n",
    "imge = np.uint8(cv.normalize(imge, None, 0, 255, cv.NORM_MINMAX))\n",
    "cv.imshow('image', imge)\n",
    "cv.waitKey(0)\n",
    "cv.destroyAllWindows()\n",
    "cv.imwrite('image_e.jpg', imge)"
   ]
  },
  {
   "cell_type": "markdown",
   "metadata": {},
   "source": [
    "##### (f) Spectrum of the product HF"
   ]
  },
  {
   "cell_type": "code",
   "execution_count": 74,
   "metadata": {},
   "outputs": [
    {
     "data": {
      "text/plain": [
       "True"
      ]
     },
     "execution_count": 74,
     "metadata": {},
     "output_type": "execute_result"
    }
   ],
   "source": [
    "imgf = imgd * imge\n",
    "imgf = np.uint8(cv.normalize(imgf, None, 0, 255, cv.NORM_MINMAX))\n",
    "cv.imshow('image', imgf)\n",
    "cv.waitKey(0)\n",
    "cv.destroyAllWindows()\n",
    "cv.imwrite('image_f.jpg', imgf)"
   ]
  },
  {
   "cell_type": "markdown",
   "metadata": {},
   "source": [
    "##### (g) Image gp, the real part of the IDFT of HF, multiplied by (-1)^x+y"
   ]
  },
  {
   "cell_type": "code",
   "execution_count": 75,
   "metadata": {},
   "outputs": [
    {
     "data": {
      "text/plain": [
       "True"
      ]
     },
     "execution_count": 75,
     "metadata": {},
     "output_type": "execute_result"
    }
   ],
   "source": [
    "ishift = np.fft.ifftshift(fShift)\n",
    "idft = cv.idft(ishift)\n",
    "imgg = cv.magnitude(idft[:,:,0], idft[:,:,1])\n",
    "imgg = np.uint8(cv.normalize(imgg, None, 0, 255, cv.NORM_MINMAX))\n",
    "\n",
    "cv.imshow('image', imgg)\n",
    "cv.waitKey(0)\n",
    "cv.destroyAllWindows()\n",
    "cv.imwrite('image_g.jpg', imgg)"
   ]
  },
  {
   "cell_type": "markdown",
   "metadata": {},
   "source": [
    "##### (h) Final result, g, obtained by extracting the first M rows and N columns of gp"
   ]
  },
  {
   "cell_type": "code",
   "execution_count": 76,
   "metadata": {},
   "outputs": [
    {
     "data": {
      "text/plain": [
       "True"
      ]
     },
     "execution_count": 76,
     "metadata": {},
     "output_type": "execute_result"
    }
   ],
   "source": [
    "imgh = imgg[0:x, 0:y]\n",
    "cv.imshow('image', imgh)\n",
    "cv.waitKey(0)\n",
    "cv.destroyAllWindows()\n",
    "cv.imwrite('image_h.jpg', imgh)"
   ]
  }
 ],
 "metadata": {
  "kernelspec": {
   "display_name": "Python 3.9.15 ('ImageProcessing')",
   "language": "python",
   "name": "python3"
  },
  "language_info": {
   "codemirror_mode": {
    "name": "ipython",
    "version": 3
   },
   "file_extension": ".py",
   "mimetype": "text/x-python",
   "name": "python",
   "nbconvert_exporter": "python",
   "pygments_lexer": "ipython3",
   "version": "3.9.15"
  },
  "orig_nbformat": 4,
  "vscode": {
   "interpreter": {
    "hash": "3b2c9b79ee524dcf4396840539f289d8333b6cb5422ecfe9adfcef08992a12af"
   }
  }
 },
 "nbformat": 4,
 "nbformat_minor": 2
}
