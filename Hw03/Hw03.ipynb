{
 "cells": [
  {
   "cell_type": "markdown",
   "metadata": {},
   "source": [
    "### Read File"
   ]
  },
  {
   "cell_type": "code",
   "execution_count": 110,
   "metadata": {},
   "outputs": [
    {
     "data": {
      "text/plain": [
       "True"
      ]
     },
     "execution_count": 110,
     "metadata": {},
     "output_type": "execute_result"
    }
   ],
   "source": [
    "import numpy as np\n",
    "import cv2 as cv\n",
    "import math\n",
    "\n",
    "img = cv.imread(\"PET-scan.tif\", 0)\n",
    "cv.imshow('image', img)\n",
    "cv.waitKey(0)\n",
    "cv.destroyAllWindows()\n",
    "cv.imwrite('image_a.jpg', img)"
   ]
  },
  {
   "cell_type": "markdown",
   "metadata": {},
   "source": [
    "##### (b) Laplacian of (a)"
   ]
  },
  {
   "cell_type": "code",
   "execution_count": 111,
   "metadata": {},
   "outputs": [
    {
     "data": {
      "text/plain": [
       "True"
      ]
     },
     "execution_count": 111,
     "metadata": {},
     "output_type": "execute_result"
    }
   ],
   "source": [
    "imgb = cv.Laplacian(img, cv.CV_64F) # ddepth = -1 是輸出一樣深度的意思\n",
    "imgb = np.uint8(cv.normalize(imgb, None, 0, 255, cv.NORM_MINMAX))\n",
    "\n",
    "cv.imshow('image', imgb)\n",
    "cv.waitKey(0)\n",
    "cv.destroyAllWindows()\n",
    "cv.imwrite('image_b.jpg', imgb)"
   ]
  },
  {
   "cell_type": "markdown",
   "metadata": {},
   "source": [
    "##### (c) Sharpened image obtained by adding (a) & (b)"
   ]
  },
  {
   "cell_type": "code",
   "execution_count": 112,
   "metadata": {},
   "outputs": [
    {
     "data": {
      "text/plain": [
       "True"
      ]
     },
     "execution_count": 112,
     "metadata": {},
     "output_type": "execute_result"
    }
   ],
   "source": [
    "imgb = cv.Laplacian(img, -1, ksize = 1)\n",
    "imgc = cv.add(imgb, img, dtype=cv.CV_64F)\n",
    "imgc = np.uint8(cv.normalize(imgc, None, 0, 255, cv.NORM_MINMAX))\n",
    "cv.imshow('image', imgc)\n",
    "cv.waitKey(0)\n",
    "cv.destroyAllWindows()\n",
    "cv.imwrite('image_c.jpg', imgc)"
   ]
  },
  {
   "cell_type": "markdown",
   "metadata": {},
   "source": [
    "##### (d) Sobel gradient of image"
   ]
  },
  {
   "cell_type": "code",
   "execution_count": 113,
   "metadata": {},
   "outputs": [
    {
     "data": {
      "text/plain": [
       "True"
      ]
     },
     "execution_count": 113,
     "metadata": {},
     "output_type": "execute_result"
    }
   ],
   "source": [
    "imgdx = cv.Sobel(img, -1, 1, 0)\n",
    "cv.imwrite('image_dx.jpg', imgdx)\n",
    "imgdy = cv.Sobel(img, -1, 0, 1)\n",
    "cv.imwrite('image_dy.jpg', imgdy)\n",
    "imgd = imgdx + imgdy\n",
    "cv.imshow('image', imgd)\n",
    "cv.waitKey(0)\n",
    "cv.destroyAllWindows()\n",
    "cv.imwrite('image_d.jpg', imgd)"
   ]
  },
  {
   "cell_type": "markdown",
   "metadata": {},
   "source": [
    "##### (e) Sobel image smoothed with 5*5 box filter"
   ]
  },
  {
   "cell_type": "code",
   "execution_count": 114,
   "metadata": {},
   "outputs": [
    {
     "data": {
      "text/plain": [
       "True"
      ]
     },
     "execution_count": 114,
     "metadata": {},
     "output_type": "execute_result"
    }
   ],
   "source": [
    "imge = cv.blur(imgd, (5, 5))\n",
    "cv.imshow('image', imge)\n",
    "cv.waitKey(0)\n",
    "cv.destroyAllWindows()\n",
    "cv.imwrite('image_e.jpg', imge)"
   ]
  },
  {
   "cell_type": "markdown",
   "metadata": {},
   "source": [
    "##### (f) Mask image formed by the product of (b) and (e) "
   ]
  },
  {
   "cell_type": "code",
   "execution_count": 115,
   "metadata": {},
   "outputs": [
    {
     "data": {
      "text/plain": [
       "True"
      ]
     },
     "execution_count": 115,
     "metadata": {},
     "output_type": "execute_result"
    }
   ],
   "source": [
    "imgf = cv.multiply(imgb , imge, cv.CV_64F)\n",
    "imgf = np.uint8(cv.normalize(imgf, None, 0, 255, cv.NORM_MINMAX))\n",
    "cv.imshow('image', imgf)\n",
    "cv.waitKey(0)\n",
    "cv.destroyAllWindows()\n",
    "cv.imwrite('image_f.jpg', imgf)"
   ]
  },
  {
   "cell_type": "markdown",
   "metadata": {},
   "source": [
    "##### (g) Sharpened image obtained by the adding images (a) and (f)"
   ]
  },
  {
   "cell_type": "code",
   "execution_count": 116,
   "metadata": {},
   "outputs": [
    {
     "data": {
      "text/plain": [
       "True"
      ]
     },
     "execution_count": 116,
     "metadata": {},
     "output_type": "execute_result"
    }
   ],
   "source": [
    "imgg = cv.add(img, imgf, dtype=cv.CV_64F)\n",
    "imgg = np.uint8(cv.normalize(imgg, None, 0, 255, cv.NORM_MINMAX))\n",
    "cv.imshow('image', imgg)\n",
    "cv.waitKey(0)\n",
    "cv.destroyAllWindows()\n",
    "cv.imwrite('image_g.jpg', imgg)"
   ]
  },
  {
   "cell_type": "markdown",
   "metadata": {},
   "source": [
    "##### (h) Final result obtained bu applying a powerlaw transformation to (g)"
   ]
  },
  {
   "cell_type": "code",
   "execution_count": 117,
   "metadata": {},
   "outputs": [
    {
     "data": {
      "text/plain": [
       "True"
      ]
     },
     "execution_count": 117,
     "metadata": {},
     "output_type": "execute_result"
    }
   ],
   "source": [
    "imgh = np.array(255*(imgg/255)**1.8, dtype='uint8')\n",
    "cv.imshow('image', imgh)\n",
    "cv.waitKey(0)\n",
    "cv.destroyAllWindows()\n",
    "cv.imwrite('image_h.jpg', imgh)"
   ]
  }
 ],
 "metadata": {
  "kernelspec": {
   "display_name": "Python 3.9.15 ('ImageProcessing')",
   "language": "python",
   "name": "python3"
  },
  "language_info": {
   "codemirror_mode": {
    "name": "ipython",
    "version": 3
   },
   "file_extension": ".py",
   "mimetype": "text/x-python",
   "name": "python",
   "nbconvert_exporter": "python",
   "pygments_lexer": "ipython3",
   "version": "3.9.15"
  },
  "orig_nbformat": 4,
  "vscode": {
   "interpreter": {
    "hash": "3b2c9b79ee524dcf4396840539f289d8333b6cb5422ecfe9adfcef08992a12af"
   }
  }
 },
 "nbformat": 4,
 "nbformat_minor": 2
}
